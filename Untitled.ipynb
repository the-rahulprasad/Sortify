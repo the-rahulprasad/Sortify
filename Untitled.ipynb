{
 "cells": [
  {
   "cell_type": "code",
   "execution_count": 9,
   "id": "97eb8c6d",
   "metadata": {},
   "outputs": [],
   "source": [
    "from lyricsgenius import Genius"
   ]
  },
  {
   "cell_type": "code",
   "execution_count": 2,
   "id": "50ea6e5a",
   "metadata": {},
   "outputs": [],
   "source": [
    "token = \"Insert token\""
   ]
  },
  {
   "cell_type": "code",
   "execution_count": 11,
   "id": "8a89c093",
   "metadata": {},
   "outputs": [
    {
     "name": "stdout",
     "output_type": "stream",
     "text": [
      "Searching for songs by Eminem...\n",
      "\n",
      "Song 1: \"12 Days of Diss-Mas\"\n",
      "Song 2: \"1-833-2GET-REV (REVIVAL Voicemail)\"\n",
      "Song 3: \"1997 Freestyle Live at Wetlands, NYC\"\n",
      "\n",
      "Reached user-specified song limit (3).\n",
      "Done. Found 3 songs.\n",
      "[Song(id, artist, ...), Song(id, artist, ...), Song(id, artist, ...)]\n"
     ]
    }
   ],
   "source": [
    "genius = Genius(token)\n",
    "artist = genius.search_artist(\"Eminem\", max_songs=3, sort=\"title\")\n",
    "print(artist.songs)"
   ]
  },
  {
   "cell_type": "code",
   "execution_count": 12,
   "id": "5930c938",
   "metadata": {},
   "outputs": [
    {
     "data": {
      "text/plain": [
       "lyricsgenius.types.artist.Artist"
      ]
     },
     "execution_count": 12,
     "metadata": {},
     "output_type": "execute_result"
    }
   ],
   "source": [
    "type(artist)"
   ]
  },
  {
   "cell_type": "code",
   "execution_count": 13,
   "id": "9686695e",
   "metadata": {},
   "outputs": [
    {
     "name": "stdout",
     "output_type": "stream",
     "text": [
      "Searching for \"The real slim shady\" by Eminem...\n",
      "Done.\n",
      "The Real Slim Shady Lyrics[Intro]\n",
      "May I have your attention, please?\n",
      "May I have your attention, please?\n",
      "Will the real Slim Shady please stand up?\n",
      "I repeat, will the real Slim Shady please stand up?\n",
      "We're gonna have a problem here...\n",
      "\n",
      "[Verse 1]\n",
      "Y'all act like you never seen a white person before\n",
      "Jaws all on the floor like Pam like Tommy just burst in the door\n",
      "And started whoopin' her ass worse than before\n",
      "They first were divorced, throwin' her over furniture (Agh!)\n",
      "It's the return of the \"Oh, wait, no way, you're kidding\n",
      "He didn't just say what I think he did, did he?\"\n",
      "And Dr. Dre said… nothing, you idiots!\n",
      "Dr. Dre's dead, he's locked in my basement (Ha ha!)\n",
      "Feminist women love Eminem\n",
      "\"Chicka, chicka, chicka, Slim Shady, I'm sick of him\n",
      "Look at him, walkin' around, grabbin' his you-know-what\n",
      "Flippin' the you-know-who,\" \"Yeah, but he's so cute though\"\n",
      "Yeah, I probably got a couple of screws up in my head loose\n",
      "But no worse than what's goin' on in your parents' bedrooms\n",
      "Sometimes I wanna get on TV and just let loose\n",
      "But can't, but it's cool for Tom Green to hump a dead moose\n",
      "\"My bum is on your lips, my bum is on your lips\"\n",
      "And if I'm lucky, you might just give it a little kiss\n",
      "And that's the message that we deliver to little kids\n",
      "And expect them not to know what a woman's clitoris is\n",
      "Of course, they're gonna know what intercourse is\n",
      "By the time they hit fourth grade\n",
      "They've got the Discovery Channel, don't they?\n",
      "We ain't nothin' but mammals—well, some of us, cannibals\n",
      "Who cut other people open like cantaloupes\n",
      "But if we can hump dead animals and antelopes\n",
      "Then there's no reason that a man and another man can't elope\n",
      "But if you feel like I feel, I got the antidote\n",
      "Women, wave your pantyhose, sing the chorus, and it goes—\n",
      "[Chorus]\n",
      "I'm Slim Shady, yes, I'm the real Shady\n",
      "All you other Slim Shadys are just imitating\n",
      "So won't the real Slim Shady please stand up\n",
      "Please stand up, please stand up?\n",
      "'Cause I'm Slim Shady, yes, I'm the real Shady\n",
      "All you other Slim Shadys are just imitating\n",
      "So won't the real Slim Shady please stand up\n",
      "Please stand up, please stand up?\n",
      "\n",
      "[Verse 2]\n",
      "Will Smith don't gotta cuss in his raps to sell records (Nope)\n",
      "Well, I do, so fuck him and fuck you too!\n",
      "You think I give a damn about a GRAMMY?\n",
      "Half of you critics can't even stomach me, let alone stand me\n",
      "\"But Slim, what if you win, wouldn't it be weird?\"\n",
      "Why, so you guys could just lie to get me here?\n",
      "So you can sit me here next to Britney Spears?\n",
      "Shit, Christina Aguilera better switch me chairs\n",
      "So I can sit next to Carson Daly and Fred Durst\n",
      "And hear 'em argue over who she gave head to first\n",
      "Little bitch put me on blast on MTV\n",
      "\"Yeah, he's cute, but I think he's married to Kim, hee-hee\"\n",
      "I should download her audio on MP3\n",
      "And show the whole world how you gave Eminem VD (Agh!)\n",
      "I'm sick of you little girl and boy groups\n",
      "All you do is annoy me, so I have been sent here to destroy you\n",
      "And there's a million of us just like me\n",
      "Who cuss like me, who just don't give a fuck like me\n",
      "Who dress like me; walk, talk and act like me\n",
      "And just might be the next best thing, but not quite me\n",
      "[Chorus]\n",
      "'Cause I'm Slim Shady, yes, I'm the real Shady\n",
      "All you other Slim Shadys are just imitating\n",
      "So won't the real Slim Shady please stand up\n",
      "Please stand up, please stand up?\n",
      "'Cause I'm Slim Shady, yes, I'm the real Shady\n",
      "All you other Slim Shadys are just imitating\n",
      "So won't the real Slim Shady please stand up\n",
      "Please stand up, please stand up?\n",
      "\n",
      "[Verse 3]\n",
      "I'm like a head trip to listen to, 'cause I'm only givin' you\n",
      "Things you joke about with your friends inside your livin' room\n",
      "The only difference is I got the balls to say it in front of y'all\n",
      "And I don't gotta be false or sugarcoat it at all\n",
      "I just get on the mic and spit it\n",
      "And whether you like to admit it, I just shit it\n",
      "Better than ninety percent of you rappers out can\n",
      "Then you wonder: \"How can kids eat up these albums like Valiums?\"\n",
      "It's funny, 'cause at the rate, I'm going, when I'm thirty\n",
      "I'll be the only person in the nursing home flirting\n",
      "Pinching nurse's asses when I'm jacking off with Jergens\n",
      "And I'm jerking, but this whole bag of Viagra isn't working\n",
      "In every single person there’s a Slim Shady lurking\n",
      "He could be working at Burger King, spittin' on your onion rings\n",
      "Or in the parking lot, circling, screaming, \"I don't give a fuck!\"\n",
      "With his windows down and his system up\n",
      "So will the real Shady please stand up\n",
      "And put one of those fingers on each hand up?\n",
      "And be proud to be outta your mind and outta control\n",
      "And one more time, loud as you can, how does it go?\n",
      "[Chorus]\n",
      "I'm Slim Shady, yes, I'm the real Shady\n",
      "All you other Slim Shadys are just imitating\n",
      "So won't the real Slim Shady please stand up\n",
      "Please stand up, please stand up?\n",
      "'Cause I'm Slim Shady, yes, I'm the real Shady\n",
      "All you other Slim Shadys are just imitating\n",
      "So won't the real Slim Shady please stand up\n",
      "Please stand up, please stand up?\n",
      "'Cause I'm Slim Shady, yes, I'm the real Shady\n",
      "All you other Slim Shadys are just imitating\n",
      "So won't the real Slim Shady please stand up\n",
      "Please stand up, please stand up?\n",
      "'Cause I'm Slim Shady, yes, I'm the real Shady\n",
      "All you other Slim Shadys are just imitating\n",
      "So won't the real Slim Shady please stand up\n",
      "Please stand up, please stand up?\n",
      "\n",
      "[Outro]\n",
      "Ha ha, I guess there's a Slim Shady in all of us\n",
      "Fuck it, let's all stand up!\n",
      "[Produced by Dr. Dre & Mel-Man]429Embed\n"
     ]
    }
   ],
   "source": [
    "song = artist.song(\"The real slim shady\")\n",
    "\n",
    "print(song.lyrics)"
   ]
  },
  {
   "cell_type": "code",
   "execution_count": 15,
   "id": "aa7a23e7",
   "metadata": {},
   "outputs": [
    {
     "name": "stdout",
     "output_type": "stream",
     "text": [
      "Lyrics_Eminem.json already exists. Overwrite?\n",
      "(y/n): y\n",
      "Wrote Lyrics_Eminem.json.\n"
     ]
    }
   ],
   "source": [
    "artist.save_lyrics()"
   ]
  },
  {
   "cell_type": "code",
   "execution_count": 17,
   "id": "bdc41be8",
   "metadata": {},
   "outputs": [
    {
     "name": "stdout",
     "output_type": "stream",
     "text": [
      "None\n"
     ]
    }
   ],
   "source": [
    "print(lyric)"
   ]
  },
  {
   "cell_type": "code",
   "execution_count": 1,
   "id": "0a6513eb",
   "metadata": {},
   "outputs": [],
   "source": [
    "import pandas as pd"
   ]
  },
  {
   "cell_type": "code",
   "execution_count": 6,
   "id": "7bbafe7e",
   "metadata": {},
   "outputs": [],
   "source": [
    "import requests"
   ]
  },
  {
   "cell_type": "code",
   "execution_count": 47,
   "id": "e56477e2",
   "metadata": {},
   "outputs": [],
   "source": [
    "search_term = \"Rihana\""
   ]
  },
  {
   "cell_type": "code",
   "execution_count": 48,
   "id": "09f66407",
   "metadata": {},
   "outputs": [],
   "source": [
    "genius_search_url = f\"http://api.genius.com/search?q={search_term}&access_token={token}\""
   ]
  },
  {
   "cell_type": "code",
   "execution_count": 49,
   "id": "724d1c90",
   "metadata": {},
   "outputs": [],
   "source": [
    "response = requests.get(genius_search_url)\n",
    "json_data = response.json()"
   ]
  },
  {
   "cell_type": "code",
   "execution_count": 50,
   "id": "cbd66488",
   "metadata": {},
   "outputs": [],
   "source": [
    "res = json_data['response']"
   ]
  },
  {
   "cell_type": "code",
   "execution_count": 51,
   "id": "835f5e15",
   "metadata": {},
   "outputs": [],
   "source": [
    "hits = res['hits']"
   ]
  },
  {
   "cell_type": "code",
   "execution_count": 52,
   "id": "8aecf3b6",
   "metadata": {},
   "outputs": [
    {
     "data": {
      "text/plain": [
       "dict_keys(['highlights', 'index', 'type', 'result'])"
      ]
     },
     "execution_count": 52,
     "metadata": {},
     "output_type": "execute_result"
    }
   ],
   "source": [
    "hits[1].keys()"
   ]
  },
  {
   "cell_type": "code",
   "execution_count": 53,
   "id": "0dbaed73",
   "metadata": {},
   "outputs": [],
   "source": [
    "hit1 = hits[0]"
   ]
  },
  {
   "cell_type": "code",
   "execution_count": 54,
   "id": "e5f0dc8e",
   "metadata": {},
   "outputs": [],
   "source": [
    "lyrics = []\n",
    "for i in hits:\n",
    "    link = i['result']['url']\n",
    "    lyrics.append(link)"
   ]
  },
  {
   "cell_type": "code",
   "execution_count": 55,
   "id": "55acfcdd",
   "metadata": {},
   "outputs": [
    {
     "data": {
      "text/plain": [
       "['https://genius.com/Rihana-abdulkaf-fuck-boy-lyrics',\n",
       " 'https://genius.com/Sitek-chcemy-byc-wyzej-lyrics',\n",
       " 'https://genius.com/Celo-and-abdi-aroma-der-grostadt-lyrics',\n",
       " 'https://genius.com/Spice-so-mi-like-it-remix-lyrics',\n",
       " 'https://genius.com/Orezi-rihanna-lyrics',\n",
       " 'https://genius.com/Spank-rock-loose-lyrics',\n",
       " 'https://genius.com/Musiholiq-all-lyrics',\n",
       " 'https://genius.com/Skales-fire-waist-lyrics',\n",
       " 'https://genius.com/Momo-sk-cely-hood-lyrics',\n",
       " 'https://genius.com/Diego-thug-ela-e-do-sol-lyrics']"
      ]
     },
     "execution_count": 55,
     "metadata": {},
     "output_type": "execute_result"
    }
   ],
   "source": [
    "lyrics"
   ]
  },
  {
   "cell_type": "code",
   "execution_count": null,
   "id": "63589198",
   "metadata": {},
   "outputs": [],
   "source": []
  }
 ],
 "metadata": {
  "kernelspec": {
   "display_name": "Python 3 (ipykernel)",
   "language": "python",
   "name": "python3"
  },
  "language_info": {
   "codemirror_mode": {
    "name": "ipython",
    "version": 3
   },
   "file_extension": ".py",
   "mimetype": "text/x-python",
   "name": "python",
   "nbconvert_exporter": "python",
   "pygments_lexer": "ipython3",
   "version": "3.9.7"
  }
 },
 "nbformat": 4,
 "nbformat_minor": 5
}
