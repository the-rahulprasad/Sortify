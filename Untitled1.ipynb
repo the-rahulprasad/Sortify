{
 "cells": [
  {
   "cell_type": "code",
   "execution_count": 1,
   "id": "de761f15",
   "metadata": {},
   "outputs": [],
   "source": [
    "client_id = \"ce64adcfe72b48dfa845f08496c58a63\"\n",
    "client_secret = \"43f76df9c46d41d4a3039b39f90a64a6\""
   ]
  },
  {
   "cell_type": "code",
   "execution_count": 2,
   "id": "b9a96659",
   "metadata": {},
   "outputs": [],
   "source": [
    "import requests"
   ]
  },
  {
   "cell_type": "code",
   "execution_count": 4,
   "id": "a154c3c6",
   "metadata": {},
   "outputs": [],
   "source": [
    "token_url = \"https://accounts.spotify.com/api/token\"\n",
    "method = \"POST\"\n",
    "token_data = {\n",
    "    \"grant_type\": \"client_credentials\"\n",
    "}"
   ]
  },
  {
   "cell_type": "code",
   "execution_count": null,
   "id": "46267088",
   "metadata": {},
   "outputs": [],
   "source": []
  }
 ],
 "metadata": {
  "kernelspec": {
   "display_name": "Python 3 (ipykernel)",
   "language": "python",
   "name": "python3"
  },
  "language_info": {
   "codemirror_mode": {
    "name": "ipython",
    "version": 3
   },
   "file_extension": ".py",
   "mimetype": "text/x-python",
   "name": "python",
   "nbconvert_exporter": "python",
   "pygments_lexer": "ipython3",
   "version": "3.9.7"
  }
 },
 "nbformat": 4,
 "nbformat_minor": 5
}
